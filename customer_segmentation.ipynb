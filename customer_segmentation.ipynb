{
 "cells": [
  {
   "cell_type": "code",
   "execution_count": 61,
   "id": "df87358d",
   "metadata": {},
   "outputs": [],
   "source": [
    "import pandas as pd\n",
    "import numpy as np\n",
    "import matplotlib.pyplot as plt\n",
    "import warnings\n",
    "import seaborn as sns\n",
    "\n",
    "warnings.filterwarnings(\"ignore\")"
   ]
  },
  {
   "cell_type": "code",
   "execution_count": 29,
   "id": "231e0039",
   "metadata": {},
   "outputs": [],
   "source": [
    "df = pd.read_csv('customer_data.csv', encoding='utf8') #reading the dataset"
   ]
  },
  {
   "cell_type": "code",
   "execution_count": 30,
   "id": "832714af",
   "metadata": {},
   "outputs": [
    {
     "data": {
      "text/html": [
       "<div>\n",
       "<style scoped>\n",
       "    .dataframe tbody tr th:only-of-type {\n",
       "        vertical-align: middle;\n",
       "    }\n",
       "\n",
       "    .dataframe tbody tr th {\n",
       "        vertical-align: top;\n",
       "    }\n",
       "\n",
       "    .dataframe thead th {\n",
       "        text-align: right;\n",
       "    }\n",
       "</style>\n",
       "<table border=\"1\" class=\"dataframe\">\n",
       "  <thead>\n",
       "    <tr style=\"text-align: right;\">\n",
       "      <th></th>\n",
       "      <th>name</th>\n",
       "      <th>age</th>\n",
       "      <th>gender</th>\n",
       "      <th>education</th>\n",
       "      <th>income</th>\n",
       "      <th>country</th>\n",
       "      <th>purchase_frequency</th>\n",
       "      <th>spending</th>\n",
       "    </tr>\n",
       "  </thead>\n",
       "  <tbody>\n",
       "    <tr>\n",
       "      <th>0</th>\n",
       "      <td>Teresa Williams MD</td>\n",
       "      <td>42</td>\n",
       "      <td>Female</td>\n",
       "      <td>High School</td>\n",
       "      <td>53936</td>\n",
       "      <td>Slovenia</td>\n",
       "      <td>0.9</td>\n",
       "      <td>13227.120</td>\n",
       "    </tr>\n",
       "    <tr>\n",
       "      <th>1</th>\n",
       "      <td>Christine Myers</td>\n",
       "      <td>49</td>\n",
       "      <td>Female</td>\n",
       "      <td>Master</td>\n",
       "      <td>82468</td>\n",
       "      <td>Aruba</td>\n",
       "      <td>0.6</td>\n",
       "      <td>12674.040</td>\n",
       "    </tr>\n",
       "    <tr>\n",
       "      <th>2</th>\n",
       "      <td>Dwayne Moreno</td>\n",
       "      <td>55</td>\n",
       "      <td>Male</td>\n",
       "      <td>Bachelor</td>\n",
       "      <td>56941</td>\n",
       "      <td>Cyprus</td>\n",
       "      <td>0.3</td>\n",
       "      <td>5354.115</td>\n",
       "    </tr>\n",
       "    <tr>\n",
       "      <th>3</th>\n",
       "      <td>Amy Norton</td>\n",
       "      <td>24</td>\n",
       "      <td>Female</td>\n",
       "      <td>Bachelor</td>\n",
       "      <td>60651</td>\n",
       "      <td>Palau</td>\n",
       "      <td>0.2</td>\n",
       "      <td>2606.510</td>\n",
       "    </tr>\n",
       "    <tr>\n",
       "      <th>4</th>\n",
       "      <td>Tonya Adams</td>\n",
       "      <td>64</td>\n",
       "      <td>Male</td>\n",
       "      <td>Master</td>\n",
       "      <td>81884</td>\n",
       "      <td>Zambia</td>\n",
       "      <td>0.9</td>\n",
       "      <td>18984.780</td>\n",
       "    </tr>\n",
       "  </tbody>\n",
       "</table>\n",
       "</div>"
      ],
      "text/plain": [
       "                 name  age  gender    education  income   country  \\\n",
       "0  Teresa Williams MD   42  Female  High School   53936  Slovenia   \n",
       "1     Christine Myers   49  Female       Master   82468     Aruba   \n",
       "2       Dwayne Moreno   55    Male     Bachelor   56941    Cyprus   \n",
       "3          Amy Norton   24  Female     Bachelor   60651     Palau   \n",
       "4         Tonya Adams   64    Male       Master   81884    Zambia   \n",
       "\n",
       "   purchase_frequency   spending  \n",
       "0                 0.9  13227.120  \n",
       "1                 0.6  12674.040  \n",
       "2                 0.3   5354.115  \n",
       "3                 0.2   2606.510  \n",
       "4                 0.9  18984.780  "
      ]
     },
     "execution_count": 30,
     "metadata": {},
     "output_type": "execute_result"
    }
   ],
   "source": [
    "df.head() #viewing first five records of the dataset"
   ]
  },
  {
   "cell_type": "code",
   "execution_count": 31,
   "id": "07c21c5f",
   "metadata": {},
   "outputs": [
    {
     "data": {
      "text/plain": [
       "(1000, 8)"
      ]
     },
     "execution_count": 31,
     "metadata": {},
     "output_type": "execute_result"
    }
   ],
   "source": [
    "df.shape #showing the rows and columns"
   ]
  },
  {
   "cell_type": "code",
   "execution_count": 32,
   "id": "cc519922",
   "metadata": {},
   "outputs": [
    {
     "data": {
      "text/plain": [
       "name                  False\n",
       "age                   False\n",
       "gender                False\n",
       "education             False\n",
       "income                False\n",
       "country               False\n",
       "purchase_frequency    False\n",
       "spending              False\n",
       "dtype: bool"
      ]
     },
     "execution_count": 32,
     "metadata": {},
     "output_type": "execute_result"
    }
   ],
   "source": [
    "df.isnull().any() #checking for null values"
   ]
  },
  {
   "cell_type": "code",
   "execution_count": 33,
   "id": "5feea03e",
   "metadata": {},
   "outputs": [],
   "source": [
    "df = df[['income', 'spending']]"
   ]
  },
  {
   "cell_type": "code",
   "execution_count": 34,
   "id": "bc95bea0",
   "metadata": {},
   "outputs": [
    {
     "data": {
      "text/html": [
       "<div>\n",
       "<style scoped>\n",
       "    .dataframe tbody tr th:only-of-type {\n",
       "        vertical-align: middle;\n",
       "    }\n",
       "\n",
       "    .dataframe tbody tr th {\n",
       "        vertical-align: top;\n",
       "    }\n",
       "\n",
       "    .dataframe thead th {\n",
       "        text-align: right;\n",
       "    }\n",
       "</style>\n",
       "<table border=\"1\" class=\"dataframe\">\n",
       "  <thead>\n",
       "    <tr style=\"text-align: right;\">\n",
       "      <th></th>\n",
       "      <th>income</th>\n",
       "      <th>spending</th>\n",
       "    </tr>\n",
       "  </thead>\n",
       "  <tbody>\n",
       "    <tr>\n",
       "      <th>0</th>\n",
       "      <td>53936</td>\n",
       "      <td>13227.120</td>\n",
       "    </tr>\n",
       "    <tr>\n",
       "      <th>1</th>\n",
       "      <td>82468</td>\n",
       "      <td>12674.040</td>\n",
       "    </tr>\n",
       "    <tr>\n",
       "      <th>2</th>\n",
       "      <td>56941</td>\n",
       "      <td>5354.115</td>\n",
       "    </tr>\n",
       "    <tr>\n",
       "      <th>3</th>\n",
       "      <td>60651</td>\n",
       "      <td>2606.510</td>\n",
       "    </tr>\n",
       "    <tr>\n",
       "      <th>4</th>\n",
       "      <td>81884</td>\n",
       "      <td>18984.780</td>\n",
       "    </tr>\n",
       "  </tbody>\n",
       "</table>\n",
       "</div>"
      ],
      "text/plain": [
       "   income   spending\n",
       "0   53936  13227.120\n",
       "1   82468  12674.040\n",
       "2   56941   5354.115\n",
       "3   60651   2606.510\n",
       "4   81884  18984.780"
      ]
     },
     "execution_count": 34,
     "metadata": {},
     "output_type": "execute_result"
    }
   ],
   "source": [
    "df.head()"
   ]
  },
  {
   "cell_type": "code",
   "execution_count": 62,
   "id": "a7c67614",
   "metadata": {},
   "outputs": [
    {
     "data": {
      "text/plain": [
       "<AxesSubplot:xlabel='income', ylabel='Count'>"
      ]
     },
     "execution_count": 62,
     "metadata": {},
     "output_type": "execute_result"
    },
    {
     "data": {
      "image/png": "[encoded data removed]",
      "text/plain": [
       "<Figure size 432x288 with 1 Axes>"
      ]
     },
     "metadata": {
      "needs_background": "light"
     },
     "output_type": "display_data"
    }
   ],
   "source": [
    "sns.histplot(df['income'])"
   ]
  },
  {
   "cell_type": "code",
   "execution_count": 63,
   "id": "c349c61a",
   "metadata": {},
   "outputs": [
    {
     "data": {
      "text/plain": [
       "<AxesSubplot:xlabel='spending', ylabel='Count'>"
      ]
     },
     "execution_count": 63,
     "metadata": {},
     "output_type": "execute_result"
    },
    {
     "data": {
      "image/png": "[encoded data removed]",
      "text/plain": [
       "<Figure size 432x288 with 1 Axes>"
      ]
     },
     "metadata": {
      "needs_background": "light"
     },
     "output_type": "display_data"
    }
   ],
   "source": [
    "sns.histplot(df['spending'])"
   ]
  },
  {
   "cell_type": "code",
   "execution_count": 35,
   "id": "0900cbc4",
   "metadata": {},
   "outputs": [],
   "source": [
    "x = df.values"
   ]
  },
  {
   "cell_type": "code",
   "execution_count": 36,
   "id": "7ef62bef",
   "metadata": {},
   "outputs": [
    {
     "data": {
      "text/plain": [
       "array([[53936.   , 13227.12 ],\n",
       "       [82468.   , 12674.04 ],\n",
       "       [56941.   ,  5354.115],\n",
       "       ...,\n",
       "       [59808.   ,  7196.16 ],\n",
       "       [58272.   , 13939.52 ],\n",
       "       [32512.   ,  8312.8  ]])"
      ]
     },
     "execution_count": 36,
     "metadata": {},
     "output_type": "execute_result"
    }
   ],
   "source": [
    "x"
   ]
  },
  {
   "cell_type": "code",
   "execution_count": 37,
   "id": "890e4675",
   "metadata": {},
   "outputs": [],
   "source": [
    "from sklearn.preprocessing import StandardScaler"
   ]
  },
  {
   "cell_type": "code",
   "execution_count": 38,
   "id": "b6efd2b4",
   "metadata": {},
   "outputs": [],
   "source": [
    "sc_x = StandardScaler()\n",
    "\n",
    "x = sc_x.fit_transform(x)"
   ]
  },
  {
   "cell_type": "code",
   "execution_count": 59,
   "id": "7029d784",
   "metadata": {},
   "outputs": [
    {
     "data": {
      "text/plain": [
       "array([[-0.22978925,  0.6592205 ],\n",
       "       [ 0.99756538,  0.55832966],\n",
       "       [-0.10052384, -0.77694449],\n",
       "       ...,\n",
       "       [ 0.02280526, -0.44092533],\n",
       "       [-0.04326851,  0.78917392],\n",
       "       [-1.15138063, -0.23723191]])"
      ]
     },
     "execution_count": 59,
     "metadata": {},
     "output_type": "execute_result"
    }
   ],
   "source": [
    "x"
   ]
  },
  {
   "cell_type": "code",
   "execution_count": 39,
   "id": "c59573f2",
   "metadata": {},
   "outputs": [],
   "source": [
    "from sklearn.cluster import KMeans"
   ]
  },
  {
   "cell_type": "code",
   "execution_count": 40,
   "id": "0932ad0e",
   "metadata": {},
   "outputs": [],
   "source": [
    "wcss = []\n",
    "\n",
    "for i in range(1, 11):\n",
    "    \n",
    "    kmeans = KMeans(n_clusters = i, init='k-means++')\n",
    "    kmeans.fit(x)\n",
    "    wcss.append(kmeans.inertia_)"
   ]
  },
  {
   "cell_type": "code",
   "execution_count": 41,
   "id": "48a8260c",
   "metadata": {},
   "outputs": [
    {
     "data": {
      "text/plain": [
       "[1999.9999999999993,\n",
       " 1229.9890164343908,\n",
       " 790.1205558801757,\n",
       " 544.3847988252899,\n",
       " 452.0110841464592,\n",
       " 375.1099229230028,\n",
       " 315.878453878865,\n",
       " 271.1621565593944,\n",
       " 237.78410463576873,\n",
       " 216.6056101434551]"
      ]
     },
     "execution_count": 41,
     "metadata": {},
     "output_type": "execute_result"
    }
   ],
   "source": [
    "wcss"
   ]
  },
  {
   "cell_type": "code",
   "execution_count": 42,
   "id": "60ebe6d4",
   "metadata": {},
   "outputs": [
    {
     "data": {
      "text/plain": [
       "[<matplotlib.lines.Line2D at 0x13f074a6d60>]"
      ]
     },
     "execution_count": 42,
     "metadata": {},
     "output_type": "execute_result"
    },
    {
     "data": {
      "image/png": "[encoded data removed]",
      "text/plain": [
       "<Figure size 432x288 with 1 Axes>"
      ]
     },
     "metadata": {
      "needs_background": "light"
     },
     "output_type": "display_data"
    }
   ],
   "source": [
    "plt.plot(range(1, 11), wcss)"
   ]
  },
  {
   "cell_type": "code",
   "execution_count": 43,
   "id": "35b853ce",
   "metadata": {},
   "outputs": [],
   "source": [
    "kmeans = KMeans(n_clusters=4, init='k-means++')\n",
    "\n",
    "y_kmeans = kmeans.fit_predict(x)"
   ]
  },
  {
   "cell_type": "code",
   "execution_count": 44,
   "id": "dcb8149d",
   "metadata": {},
   "outputs": [
    {
     "data": {
      "text/plain": [
       "array([2, 3, 0, 1, 3, 3, 3, 0, 1, 2, 3, 3, 2, 1, 1, 0, 0, 0, 1, 3, 3, 0,\n",
       "       0, 0, 3, 0, 2, 0, 0, 2, 1, 3, 0, 0, 3, 0, 3, 1, 2, 1, 3, 1, 0, 3,\n",
       "       0, 2, 2, 2, 0, 0, 0, 0, 0, 0, 0, 0, 1, 3, 3, 0, 2, 0, 3, 1, 1, 2,\n",
       "       1, 2, 1, 0, 1, 3, 2, 1, 2, 1, 2, 1, 3, 3, 1, 1, 2, 1, 0, 1, 3, 3,\n",
       "       2, 3, 0, 2, 3, 0, 2, 1, 1, 1, 0, 2, 3, 1, 1, 2, 3, 2, 0, 0, 2, 0,\n",
       "       2, 1, 1, 1, 0, 1, 0, 1, 1, 3, 3, 0, 0, 0, 0, 3, 2, 3, 2, 2, 0, 1,\n",
       "       0, 3, 2, 0, 3, 2, 0, 0, 2, 1, 2, 0, 1, 3, 3, 0, 2, 3, 3, 1, 0, 2,\n",
       "       0, 0, 1, 3, 3, 1, 1, 1, 1, 0, 2, 3, 3, 2, 0, 0, 3, 2, 1, 0, 1, 0,\n",
       "       3, 0, 3, 3, 0, 1, 3, 1, 2, 2, 0, 0, 2, 2, 3, 0, 2, 1, 3, 1, 2, 0,\n",
       "       1, 3, 1, 3, 2, 2, 1, 2, 2, 1, 0, 0, 2, 1, 1, 2, 0, 0, 0, 3, 1, 0,\n",
       "       1, 2, 1, 2, 3, 3, 0, 3, 0, 3, 2, 1, 2, 0, 2, 0, 2, 1, 2, 2, 2, 3,\n",
       "       3, 3, 1, 0, 2, 2, 0, 0, 0, 1, 1, 2, 2, 0, 2, 0, 1, 0, 1, 2, 2, 3,\n",
       "       2, 0, 3, 3, 0, 3, 0, 0, 1, 2, 2, 3, 1, 2, 0, 3, 3, 0, 2, 1, 1, 1,\n",
       "       0, 2, 0, 0, 3, 1, 0, 1, 1, 2, 2, 0, 3, 2, 1, 1, 0, 2, 2, 2, 2, 1,\n",
       "       1, 1, 3, 2, 2, 0, 0, 0, 0, 1, 1, 3, 3, 3, 1, 2, 3, 2, 0, 2, 0, 0,\n",
       "       3, 1, 2, 3, 0, 0, 2, 0, 2, 0, 0, 0, 3, 0, 0, 1, 1, 0, 1, 1, 1, 1,\n",
       "       2, 0, 1, 3, 3, 1, 2, 0, 0, 0, 0, 1, 1, 3, 1, 3, 1, 0, 0, 3, 1, 2,\n",
       "       1, 2, 1, 1, 3, 2, 1, 0, 2, 1, 3, 3, 3, 2, 0, 3, 2, 3, 3, 0, 1, 1,\n",
       "       1, 3, 2, 2, 0, 2, 0, 2, 0, 3, 0, 0, 0, 1, 3, 1, 2, 2, 1, 2, 2, 0,\n",
       "       2, 1, 1, 0, 3, 3, 2, 1, 0, 1, 2, 1, 2, 1, 1, 1, 2, 1, 3, 1, 0, 1,\n",
       "       0, 2, 0, 3, 0, 0, 2, 0, 0, 2, 2, 1, 2, 3, 1, 3, 1, 2, 1, 1, 1, 0,\n",
       "       3, 0, 3, 2, 0, 2, 2, 1, 1, 1, 1, 3, 1, 3, 0, 1, 2, 0, 2, 1, 0, 3,\n",
       "       3, 1, 2, 0, 1, 2, 0, 0, 3, 1, 3, 2, 0, 1, 3, 3, 2, 3, 1, 1, 1, 1,\n",
       "       0, 0, 1, 2, 3, 3, 1, 2, 2, 0, 1, 1, 2, 3, 0, 2, 3, 0, 3, 1, 2, 1,\n",
       "       1, 3, 1, 0, 2, 0, 1, 0, 0, 0, 0, 2, 3, 0, 2, 1, 0, 3, 3, 2, 1, 1,\n",
       "       0, 1, 1, 0, 3, 2, 1, 1, 0, 1, 3, 1, 2, 0, 2, 1, 3, 0, 3, 3, 0, 0,\n",
       "       0, 2, 1, 0, 0, 2, 0, 1, 0, 1, 2, 2, 1, 2, 3, 2, 2, 1, 2, 3, 0, 3,\n",
       "       3, 0, 1, 1, 3, 3, 2, 2, 2, 2, 2, 0, 1, 2, 0, 0, 0, 0, 0, 3, 0, 2,\n",
       "       3, 1, 2, 3, 0, 3, 0, 3, 1, 0, 1, 1, 1, 2, 3, 1, 2, 1, 3, 3, 1, 1,\n",
       "       2, 2, 1, 1, 2, 2, 1, 1, 1, 1, 2, 1, 0, 1, 2, 0, 2, 3, 0, 2, 1, 1,\n",
       "       3, 3, 0, 0, 0, 1, 0, 0, 3, 2, 0, 1, 0, 1, 0, 1, 2, 1, 3, 1, 1, 3,\n",
       "       3, 0, 0, 1, 3, 2, 2, 3, 1, 0, 3, 3, 1, 0, 2, 1, 2, 3, 1, 0, 2, 3,\n",
       "       1, 2, 1, 2, 2, 3, 1, 1, 1, 1, 3, 0, 2, 1, 0, 2, 2, 1, 0, 0, 2, 2,\n",
       "       1, 0, 3, 3, 0, 0, 1, 1, 1, 0, 2, 1, 3, 3, 1, 0, 0, 0, 3, 2, 1, 0,\n",
       "       0, 3, 3, 0, 3, 1, 2, 1, 0, 0, 1, 1, 3, 2, 0, 1, 1, 1, 1, 2, 1, 2,\n",
       "       3, 1, 1, 1, 1, 1, 2, 3, 0, 1, 0, 1, 2, 2, 0, 1, 1, 3, 1, 3, 3, 0,\n",
       "       0, 2, 3, 1, 1, 3, 2, 1, 2, 0, 0, 3, 0, 2, 1, 2, 3, 0, 1, 2, 2, 1,\n",
       "       3, 1, 2, 0, 0, 0, 1, 1, 1, 3, 1, 0, 1, 1, 2, 0, 0, 2, 2, 2, 3, 3,\n",
       "       2, 3, 1, 3, 1, 0, 3, 3, 3, 0, 1, 3, 3, 1, 3, 0, 2, 1, 3, 2, 1, 2,\n",
       "       2, 2, 1, 2, 0, 0, 1, 3, 0, 0, 3, 1, 3, 3, 1, 3, 1, 2, 3, 0, 1, 1,\n",
       "       3, 2, 1, 2, 3, 0, 0, 1, 2, 2, 1, 1, 0, 0, 1, 0, 2, 0, 3, 3, 1, 1,\n",
       "       2, 2, 3, 2, 1, 2, 0, 2, 0, 1, 1, 1, 0, 0, 1, 1, 2, 1, 1, 1, 2, 0,\n",
       "       3, 2, 2, 3, 2, 2, 3, 2, 1, 2, 2, 2, 3, 3, 2, 1, 3, 2, 2, 1, 1, 3,\n",
       "       0, 0, 1, 3, 3, 2, 3, 0, 1, 2, 3, 0, 3, 2, 0, 3, 1, 1, 1, 2, 0, 0,\n",
       "       1, 0, 1, 0, 2, 2, 1, 3, 2, 2, 2, 2, 2, 0, 1, 1, 0, 1, 3, 0, 0, 0,\n",
       "       0, 0, 3, 1, 0, 3, 2, 1, 2, 0])"
      ]
     },
     "execution_count": 44,
     "metadata": {},
     "output_type": "execute_result"
    }
   ],
   "source": [
    "y_kmeans"
   ]
  },
  {
   "cell_type": "code",
   "execution_count": 65,
   "id": "46eba17f",
   "metadata": {},
   "outputs": [
    {
     "data": {
      "text/plain": [
       "Text(0, 0.5, 'SPENDING AMOUNT OF CUSTOMERS')"
      ]
     },
     "execution_count": 65,
     "metadata": {},
     "output_type": "execute_result"
    },
    {
     "data": {
      "image/png": "[encoded data removed]",
      "text/plain": [
       "<Figure size 432x288 with 1 Axes>"
      ]
     },
     "metadata": {
      "needs_background": "light"
     },
     "output_type": "display_data"
    }
   ],
   "source": [
    "plt.scatter(x[y_kmeans == 0, 0], x[y_kmeans == 0, 1], s=100, c='red', label='Cluster-1')\n",
    "plt.scatter(x[y_kmeans == 1, 0], x[y_kmeans == 1, 1], s=100, c='blue', label='Cluster-2')\n",
    "plt.scatter(x[y_kmeans == 2, 0], x[y_kmeans == 2, 1], s=100, c='green', label='Cluster-3')\n",
    "plt.scatter(x[y_kmeans == 3, 0], x[y_kmeans == 3, 1], s=100, c='cyan', label='Cluster-4')\n",
    "\n",
    "plt.title('Clusters of Customers')\n",
    "plt.xlabel('INCOME OF CUSTOMERS')\n",
    "plt.ylabel('SPENDING AMOUNT OF CUSTOMERS')"
   ]
  },
  {
   "cell_type": "code",
   "execution_count": 46,
   "id": "2db92ea9",
   "metadata": {},
   "outputs": [],
   "source": [
    "from scipy.cluster.hierarchy import linkage, dendrogram\n",
    "\n",
    "complete_clustering = linkage(x, method=\"complete\", metric=\"euclidean\")"
   ]
  },
  {
   "cell_type": "code",
   "execution_count": 47,
   "id": "7ab79b1b",
   "metadata": {},
   "outputs": [
    {
     "data": {
      "image/png": "[encoded data removed]",
      "text/plain": [
       "<Figure size 432x288 with 1 Axes>"
      ]
     },
     "metadata": {
      "needs_background": "light"
     },
     "output_type": "display_data"
    }
   ],
   "source": [
    "dendrogram(complete_clustering)\n",
    "plt.show()"
   ]
  },
  {
   "cell_type": "code",
   "execution_count": 56,
   "id": "b5c515ed",
   "metadata": {},
   "outputs": [],
   "source": [
    "from sklearn.cluster import AgglomerativeClustering\n",
    "hc = AgglomerativeClustering(n_clusters = 5, affinity='euclidean', linkage = 'ward')\n",
    "y_hc = hc.fit_predict(x)"
   ]
  },
  {
   "cell_type": "code",
   "execution_count": 66,
   "id": "bc73425c",
   "metadata": {},
   "outputs": [
    {
     "data": {
      "text/plain": [
       "<function matplotlib.pyplot.show(close=None, block=None)>"
      ]
     },
     "execution_count": 66,
     "metadata": {},
     "output_type": "execute_result"
    },
    {
     "data": {
      "image/png": "[encoded data removed]",
      "text/plain": [
       "<Figure size 432x288 with 1 Axes>"
      ]
     },
     "metadata": {
      "needs_background": "light"
     },
     "output_type": "display_data"
    }
   ],
   "source": [
    "plt.scatter(x[y_hc == 0, 0], x[y_hc == 0, 1], s=100, c='red', label='Cluster-1')\n",
    "plt.scatter(x[y_hc == 1, 0], x[y_hc == 1, 1], s=100, c='blue', label='Cluster-2')\n",
    "plt.scatter(x[y_hc == 2, 0], x[y_hc == 2, 1], s=100, c='green', label='Cluster-3')\n",
    "plt.scatter(x[y_hc == 3, 0], x[y_hc == 3, 1], s=100, c='cyan', label='Cluster-4')\n",
    "plt.scatter(x[y_hc == 4, 0], x[y_hc == 4, 1], s=100, c='black', label='Cluster-4')\n",
    "plt.title('Clusters of Customers')\n",
    "plt.xlabel('INCOME OF CUSTOMERS')\n",
    "plt.ylabel('SPENDING AMOUNT OF CUSTOMERS')\n",
    "plt.show"
   ]
  },
  {
   "cell_type": "code",
   "execution_count": null,
   "id": "a519a07f",
   "metadata": {},
   "outputs": [],
   "source": []
  }
 ],
 "metadata": {
  "kernelspec": {
   "display_name": "Python 3 (ipykernel)",
   "language": "python",
   "name": "python3"
  },
  "language_info": {
   "codemirror_mode": {
    "name": "ipython",
    "version": 3
   },
   "file_extension": ".py",
   "mimetype": "text/x-python",
   "name": "python",
   "nbconvert_exporter": "python",
   "pygments_lexer": "ipython3",
   "version": "3.9.7"
  }
 },
 "nbformat": 4,
 "nbformat_minor": 5
}
